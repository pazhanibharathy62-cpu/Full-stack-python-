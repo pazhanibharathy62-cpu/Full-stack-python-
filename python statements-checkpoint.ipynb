{
 "cells": [
  {
   "cell_type": "code",
   "execution_count": 9,
   "id": "15079957-3fcb-4056-8ad7-c70c933d0515",
   "metadata": {},
   "outputs": [
    {
     "name": "stdout",
     "output_type": "stream",
     "text": [
      "Loop\n",
      "Loop\n",
      "Loop\n",
      "Loop\n",
      "Loop\n",
      "Loop\n",
      "Loop\n",
      "Loop\n"
     ]
    }
   ],
   "source": [
    "a=8\n",
    "for i in range(0,a):\n",
    "    print(\"Loop\");"
   ]
  },
  {
   "cell_type": "code",
   "execution_count": 10,
   "id": "352f6da1-ef77-4e48-afad-84932ffca43e",
   "metadata": {},
   "outputs": [
    {
     "name": "stdout",
     "output_type": "stream",
     "text": [
      "Enter\n",
      "Enter\n",
      "Enter\n",
      "Enter\n",
      "Enter\n",
      "Enter\n",
      "Enter\n",
      "Enter\n",
      "Enter\n",
      "Enter\n"
     ]
    }
   ],
   "source": [
    "a=10\n",
    "i=0\n",
    "while(i<a):\n",
    "    print(\"Enter\");\n",
    "    i+=1"
   ]
  },
  {
   "cell_type": "code",
   "execution_count": 12,
   "id": "9e2fc48f-3e88-4974-a90c-69dd36947bb3",
   "metadata": {},
   "outputs": [
    {
     "name": "stdin",
     "output_type": "stream",
     "text": [
      "Enter input: 4\n"
     ]
    },
    {
     "name": "stdout",
     "output_type": "stream",
     "text": [
      "Positive\n"
     ]
    }
   ],
   "source": [
    "i=int(input(\"Enter input:\"))\n",
    "if(i%2==0):\n",
    "    print(\"Positive\");\n",
    "else:\n",
    "    print(\"Negative\");"
   ]
  },
  {
   "cell_type": "code",
   "execution_count": 13,
   "id": "5dfb7f7f-1db7-48f6-bfe5-8703d168e138",
   "metadata": {},
   "outputs": [
    {
     "name": "stdin",
     "output_type": "stream",
     "text": [
      "Enter marks: 95\n"
     ]
    },
    {
     "name": "stdout",
     "output_type": "stream",
     "text": [
      "Grade:A\n"
     ]
    }
   ],
   "source": [
    "marks=int(input(\"Enter marks:\"))\n",
    "if marks>=90:\n",
    "    print(\"Grade:A\");\n",
    "elif marks>=75:\n",
    "    print(\"Grade:B\");\n",
    "elif marks>=50:\n",
    "    print(\"Grade:C\");\n",
    "else:\n",
    "    print(\"Grade:Fail\");"
   ]
  },
  {
   "cell_type": "code",
   "execution_count": 14,
   "id": "35115997-a227-4e14-b928-7351c9385b7f",
   "metadata": {},
   "outputs": [
    {
     "name": "stdout",
     "output_type": "stream",
     "text": [
      "x is positive and less than 10\n"
     ]
    }
   ],
   "source": [
    "x=5\n",
    "if x>0 and x<10:\n",
    "    print(\"x is positive and less than 10\");"
   ]
  },
  {
   "cell_type": "code",
   "execution_count": 18,
   "id": "49283ee9-a9ad-44af-88ce-4c51fc7cce81",
   "metadata": {},
   "outputs": [
    {
     "name": "stdout",
     "output_type": "stream",
     "text": [
      "0 is not odd\n",
      "1 is odd\n",
      "2 is not odd\n",
      "3 is odd\n"
     ]
    }
   ],
   "source": [
    "A=4\n",
    "for i in range(0,A):\n",
    "    if(i%2!=0):\n",
    "       print(i,\"is odd\");\n",
    "    else:\n",
    "        print(i,\"is not odd\");"
   ]
  },
  {
   "cell_type": "code",
   "execution_count": 23,
   "id": "fc8257ea-737d-4b2b-a4bc-b665faf6791c",
   "metadata": {},
   "outputs": [
    {
     "name": "stdin",
     "output_type": "stream",
     "text": [
      "Enter a name: faisal\n"
     ]
    },
    {
     "name": "stdout",
     "output_type": "stream",
     "text": [
      "Not Available\n"
     ]
    }
   ],
   "source": [
    "name=[\"vinoth\", \"suriya\", \"mahesh\"]\n",
    "i=input(\"Enter a name:\")\n",
    "if i in name:\n",
    "    print(\"Present\");\n",
    "else:\n",
    "     print(\"Not Available\");"
   ]
  },
  {
   "cell_type": "code",
   "execution_count": 28,
   "id": "18ed5f8d-eac6-4dff-adc4-1ac5e9fbb04f",
   "metadata": {},
   "outputs": [
    {
     "name": "stdout",
     "output_type": "stream",
     "text": [
      "1\n",
      "3\n",
      "5\n",
      "7\n",
      "9\n"
     ]
    }
   ],
   "source": [
    "for i in range(1,10,2):\n",
    "    print(i);"
   ]
  },
  {
   "cell_type": "code",
   "execution_count": 34,
   "id": "6697bbb6-9b0c-45ed-bdf9-55de591c5fb9",
   "metadata": {},
   "outputs": [
    {
     "name": "stdin",
     "output_type": "stream",
     "text": [
      "Enter a number: 7\n"
     ]
    },
    {
     "name": "stdout",
     "output_type": "stream",
     "text": [
      "Single digit sum: 7\n"
     ]
    }
   ],
   "source": [
    "def single_digit_sum(n):\n",
    "    while n>=10:\n",
    "        n = sum(int(digit)for digit in str(n))\n",
    "    return n\n",
    "num=int(input(\"Enter a number:\"))\n",
    "print(\"Single digit sum:\",single_digit_sum(num));"
   ]
  },
  {
   "cell_type": "code",
   "execution_count": null,
   "id": "cd90c265-820d-467d-baed-ac7b59f6e0d7",
   "metadata": {},
   "outputs": [],
   "source": []
  }
 ],
 "metadata": {
  "kernelspec": {
   "display_name": "Python 3 (ipykernel)",
   "language": "python",
   "name": "python3"
  },
  "language_info": {
   "codemirror_mode": {
    "name": "ipython",
    "version": 3
   },
   "file_extension": ".py",
   "mimetype": "text/x-python",
   "name": "python",
   "nbconvert_exporter": "python",
   "pygments_lexer": "ipython3",
   "version": "3.13.5"
  }
 },
 "nbformat": 4,
 "nbformat_minor": 5
}
